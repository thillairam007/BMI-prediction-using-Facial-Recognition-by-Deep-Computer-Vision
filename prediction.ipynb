{
 "cells": [
  {
   "cell_type": "code",
   "execution_count": 149,
   "metadata": {},
   "outputs": [],
   "source": [
    "import pandas as pd\n",
    "import numpy as np\n",
    "import joblib\n",
    "import sklearn\n",
    "import gradio as gr"
   ]
  },
  {
   "cell_type": "code",
   "execution_count": 150,
   "metadata": {},
   "outputs": [],
   "source": [
    "import tensorflow as tf"
   ]
  },
  {
   "cell_type": "code",
   "execution_count": 151,
   "metadata": {},
   "outputs": [],
   "source": [
    "import face_recognition"
   ]
  },
  {
   "cell_type": "code",
   "execution_count": 152,
   "metadata": {},
   "outputs": [],
   "source": [
    "# from cassandra.cluster import Cluster\n",
    "# from cassandra.auth import PlainTextAuthProvider\n",
    "\n",
    "# cloud_config= {\n",
    "#   'secure_connect_bundle': r'C:\\Users\\ROCKRAM\\Downloads\\secure-connect-sample.zip'\n",
    "# }\n",
    "# auth_provider = PlainTextAuthProvider('WZnAUhYtZZCrGJbMRAsWaNUO', 'AoGWhtEbRLx89e+QwIa0qUd,y_AAdyl_8KkJv1Uguc+etLhArJgZg+3_tSkHSdD--s2PMAPoZna7ALlHC2pH_7aI+P9ddSe375qFbKjvFqhabfHW5tY3H5g8wz_tL76A')\n",
    "# cluster = Cluster(cloud=cloud_config, auth_provider=auth_provider)\n",
    "# session = cluster.connect()\n",
    "\n",
    "# row = session.execute(\"select release_version from system.local\").one()\n",
    "# if row:\n",
    "#   print(row[0])\n",
    "# else:\n",
    "#   print(\"An error occurred.\")\n",
    "\n",
    "# query = \"SELECT * FROM csv.bmidataset\"\n",
    "# df = pd.DataFrame(list(session.execute(query)))"
   ]
  },
  {
   "cell_type": "code",
   "execution_count": 153,
   "metadata": {},
   "outputs": [],
   "source": [
    "df=pd.read_csv('bmi data set.csv')"
   ]
  },
  {
   "cell_type": "code",
   "execution_count": 154,
   "metadata": {},
   "outputs": [],
   "source": [
    "from pathlib import Path as p"
   ]
  },
  {
   "cell_type": "code",
   "execution_count": 155,
   "metadata": {},
   "outputs": [],
   "source": [
    "def get_index_of_digit(string):\n",
    "    import re\n",
    "    match = re.search(\"\\d\", p(string).stem)\n",
    "    return match.start(0)"
   ]
  },
  {
   "cell_type": "code",
   "execution_count": 156,
   "metadata": {},
   "outputs": [],
   "source": [
    "data_folder = \"sample_faces\""
   ]
  },
  {
   "cell_type": "code",
   "execution_count": 157,
   "metadata": {},
   "outputs": [
    {
     "name": "stdout",
     "output_type": "stream",
     "text": [
      "Total 254 photos \n"
     ]
    }
   ],
   "source": [
    "from glob import glob\n",
    "all_files = glob(data_folder+\"/*\")\n",
    "\n",
    "all_jpgs = sorted([img for img in all_files if \".jpg\" in img or \".jpeg\" in img or \"JPG\" in img])\n",
    "\n",
    "print(\"Total {} photos \".format(len(all_jpgs)))"
   ]
  },
  {
   "cell_type": "code",
   "execution_count": 158,
   "metadata": {},
   "outputs": [],
   "source": [
    "id_path = [(p(images).stem[:(get_index_of_digit(p(images).stem))],images) for  images in all_jpgs ]"
   ]
  },
  {
   "cell_type": "code",
   "execution_count": 159,
   "metadata": {},
   "outputs": [],
   "source": [
    "img_df = pd.DataFrame(id_path,columns=['UID','path'])"
   ]
  },
  {
   "cell_type": "code",
   "execution_count": 160,
   "metadata": {},
   "outputs": [],
   "source": [
    "data_df = img_df.merge(df)"
   ]
  },
  {
   "cell_type": "code",
   "execution_count": 161,
   "metadata": {},
   "outputs": [
    {
     "data": {
      "text/html": [
       "<div>\n",
       "<style scoped>\n",
       "    .dataframe tbody tr th:only-of-type {\n",
       "        vertical-align: middle;\n",
       "    }\n",
       "\n",
       "    .dataframe tbody tr th {\n",
       "        vertical-align: top;\n",
       "    }\n",
       "\n",
       "    .dataframe thead th {\n",
       "        text-align: right;\n",
       "    }\n",
       "</style>\n",
       "<table border=\"1\" class=\"dataframe\">\n",
       "  <thead>\n",
       "    <tr style=\"text-align: right;\">\n",
       "      <th></th>\n",
       "      <th>UID</th>\n",
       "      <th>path</th>\n",
       "      <th>id</th>\n",
       "      <th>name</th>\n",
       "      <th>height</th>\n",
       "      <th>weight</th>\n",
       "      <th>BMI</th>\n",
       "    </tr>\n",
       "  </thead>\n",
       "  <tbody>\n",
       "    <tr>\n",
       "      <th>0</th>\n",
       "      <td>ak</td>\n",
       "      <td>sample_faces\\ak1.jpg</td>\n",
       "      <td>25</td>\n",
       "      <td>Thala Ajith kumar</td>\n",
       "      <td>175.00</td>\n",
       "      <td>80</td>\n",
       "      <td>26.100000</td>\n",
       "    </tr>\n",
       "    <tr>\n",
       "      <th>1</th>\n",
       "      <td>ak</td>\n",
       "      <td>sample_faces\\ak10.jpg</td>\n",
       "      <td>25</td>\n",
       "      <td>Thala Ajith kumar</td>\n",
       "      <td>175.00</td>\n",
       "      <td>80</td>\n",
       "      <td>26.100000</td>\n",
       "    </tr>\n",
       "    <tr>\n",
       "      <th>2</th>\n",
       "      <td>ak</td>\n",
       "      <td>sample_faces\\ak2.jpg</td>\n",
       "      <td>25</td>\n",
       "      <td>Thala Ajith kumar</td>\n",
       "      <td>175.00</td>\n",
       "      <td>80</td>\n",
       "      <td>26.100000</td>\n",
       "    </tr>\n",
       "    <tr>\n",
       "      <th>3</th>\n",
       "      <td>ak</td>\n",
       "      <td>sample_faces\\ak3.jpg</td>\n",
       "      <td>25</td>\n",
       "      <td>Thala Ajith kumar</td>\n",
       "      <td>175.00</td>\n",
       "      <td>80</td>\n",
       "      <td>26.100000</td>\n",
       "    </tr>\n",
       "    <tr>\n",
       "      <th>4</th>\n",
       "      <td>ak</td>\n",
       "      <td>sample_faces\\ak4.jpg</td>\n",
       "      <td>25</td>\n",
       "      <td>Thala Ajith kumar</td>\n",
       "      <td>175.00</td>\n",
       "      <td>80</td>\n",
       "      <td>26.100000</td>\n",
       "    </tr>\n",
       "    <tr>\n",
       "      <th>...</th>\n",
       "      <td>...</td>\n",
       "      <td>...</td>\n",
       "      <td>...</td>\n",
       "      <td>...</td>\n",
       "      <td>...</td>\n",
       "      <td>...</td>\n",
       "      <td>...</td>\n",
       "    </tr>\n",
       "    <tr>\n",
       "      <th>249</th>\n",
       "      <td>vikky</td>\n",
       "      <td>sample_faces\\vikky5.jpg</td>\n",
       "      <td>8</td>\n",
       "      <td>vicky kaushal</td>\n",
       "      <td>1.83</td>\n",
       "      <td>80</td>\n",
       "      <td>23.888441</td>\n",
       "    </tr>\n",
       "    <tr>\n",
       "      <th>250</th>\n",
       "      <td>vikky</td>\n",
       "      <td>sample_faces\\vikky6.jpg</td>\n",
       "      <td>8</td>\n",
       "      <td>vicky kaushal</td>\n",
       "      <td>1.83</td>\n",
       "      <td>80</td>\n",
       "      <td>23.888441</td>\n",
       "    </tr>\n",
       "    <tr>\n",
       "      <th>251</th>\n",
       "      <td>vikky</td>\n",
       "      <td>sample_faces\\vikky7.jpg</td>\n",
       "      <td>8</td>\n",
       "      <td>vicky kaushal</td>\n",
       "      <td>1.83</td>\n",
       "      <td>80</td>\n",
       "      <td>23.888441</td>\n",
       "    </tr>\n",
       "    <tr>\n",
       "      <th>252</th>\n",
       "      <td>vikky</td>\n",
       "      <td>sample_faces\\vikky8.jpg</td>\n",
       "      <td>8</td>\n",
       "      <td>vicky kaushal</td>\n",
       "      <td>1.83</td>\n",
       "      <td>80</td>\n",
       "      <td>23.888441</td>\n",
       "    </tr>\n",
       "    <tr>\n",
       "      <th>253</th>\n",
       "      <td>vikky</td>\n",
       "      <td>sample_faces\\vikky9.jpg</td>\n",
       "      <td>8</td>\n",
       "      <td>vicky kaushal</td>\n",
       "      <td>1.83</td>\n",
       "      <td>80</td>\n",
       "      <td>23.888441</td>\n",
       "    </tr>\n",
       "  </tbody>\n",
       "</table>\n",
       "<p>254 rows × 7 columns</p>\n",
       "</div>"
      ],
      "text/plain": [
       "       UID                     path  id               name  height  weight  \\\n",
       "0       ak     sample_faces\\ak1.jpg  25  Thala Ajith kumar  175.00      80   \n",
       "1       ak    sample_faces\\ak10.jpg  25  Thala Ajith kumar  175.00      80   \n",
       "2       ak     sample_faces\\ak2.jpg  25  Thala Ajith kumar  175.00      80   \n",
       "3       ak     sample_faces\\ak3.jpg  25  Thala Ajith kumar  175.00      80   \n",
       "4       ak     sample_faces\\ak4.jpg  25  Thala Ajith kumar  175.00      80   \n",
       "..     ...                      ...  ..                ...     ...     ...   \n",
       "249  vikky  sample_faces\\vikky5.jpg   8      vicky kaushal    1.83      80   \n",
       "250  vikky  sample_faces\\vikky6.jpg   8      vicky kaushal    1.83      80   \n",
       "251  vikky  sample_faces\\vikky7.jpg   8      vicky kaushal    1.83      80   \n",
       "252  vikky  sample_faces\\vikky8.jpg   8      vicky kaushal    1.83      80   \n",
       "253  vikky  sample_faces\\vikky9.jpg   8      vicky kaushal    1.83      80   \n",
       "\n",
       "           BMI  \n",
       "0    26.100000  \n",
       "1    26.100000  \n",
       "2    26.100000  \n",
       "3    26.100000  \n",
       "4    26.100000  \n",
       "..         ...  \n",
       "249  23.888441  \n",
       "250  23.888441  \n",
       "251  23.888441  \n",
       "252  23.888441  \n",
       "253  23.888441  \n",
       "\n",
       "[254 rows x 7 columns]"
      ]
     },
     "execution_count": 161,
     "metadata": {},
     "output_type": "execute_result"
    }
   ],
   "source": [
    "data_df"
   ]
  },
  {
   "cell_type": "code",
   "execution_count": 162,
   "metadata": {},
   "outputs": [],
   "source": [
    "# def get_face_encoding(img_path):\n",
    "#     print(img_path)\n",
    "#     picture_of_me = face_recognition.load_image_file(img_path)\n",
    "#     my_face_encoding = face_recognition.face_encodings(picture_of_me)\n",
    "#     if not my_face_encoding:\n",
    "#         print(\"no face found !!!\")\n",
    "#         return np.zeros(128).tolist()\n",
    "#     return my_face_encoding[0].tolist()"
   ]
  },
  {
   "cell_type": "code",
   "execution_count": 163,
   "metadata": {},
   "outputs": [],
   "source": [
    "#import cv2"
   ]
  },
  {
   "cell_type": "code",
   "execution_count": 164,
   "metadata": {},
   "outputs": [],
   "source": [
    "# import cv2\n",
    "# import face_recognition\n",
    "# import numpy as np\n",
    "\n",
    "# def get_face_encoding(img_path):\n",
    "#     # read the image file\n",
    "#     img = cv2.imread(img_path)\n",
    "\n",
    "#     # convert the image array to RGB format\n",
    "#     img_rgb = cv2.cvtColor(img, cv2.COLOR_BGR2RGB)\n",
    "\n",
    "#     # find all the faces in the image\n",
    "#     face_locations = face_recognition.face_locations(img_rgb)\n",
    "#     if not face_locations:\n",
    "#         print(\"no face found !!!\")\n",
    "#         return np.zeros(128)\n",
    "\n",
    "#     # extract the face encoding\n",
    "#     face_encoding = face_recognition.face_encodings(img_rgb, face_locations)[0]\n",
    "#     return face_encoding\n"
   ]
  },
  {
   "cell_type": "code",
   "execution_count": 165,
   "metadata": {},
   "outputs": [],
   "source": [
    "def get_face_encoding(image_path):\n",
    "    print(image_path)\n",
    "    picture_of_me = face_recognition.load_image_file(image_path)\n",
    "    my_face_encoding = face_recognition.face_encodings(picture_of_me)\n",
    "    if not my_face_encoding:\n",
    "        print(\"no face found !!!\")\n",
    "        return np.zeros(128).tolist()\n",
    "    return my_face_encoding[0].tolist()"
   ]
  },
  {
   "cell_type": "code",
   "execution_count": 166,
   "metadata": {},
   "outputs": [],
   "source": [
    "tot_faces = []"
   ]
  },
  {
   "cell_type": "code",
   "execution_count": 167,
   "metadata": {},
   "outputs": [
    {
     "name": "stdout",
     "output_type": "stream",
     "text": [
      "sample_faces\\ak1.jpg\n",
      "sample_faces\\ak10.jpg\n",
      "sample_faces\\ak2.jpg\n",
      "sample_faces\\ak3.jpg\n",
      "sample_faces\\ak4.jpg\n",
      "no face found !!!\n",
      "sample_faces\\ak5.jpg\n",
      "sample_faces\\ak6.jpg\n",
      "sample_faces\\ak7.jpg\n",
      "no face found !!!\n",
      "sample_faces\\ak8.jpg\n",
      "sample_faces\\ak9.jpg\n",
      "no face found !!!\n",
      "sample_faces\\akshay1.jpeg\n",
      "sample_faces\\akshay10.jpg\n",
      "sample_faces\\akshay11.jpg\n",
      "sample_faces\\akshay12.jpg\n",
      "sample_faces\\akshay13.jpg\n",
      "sample_faces\\akshay14.jpg\n",
      "sample_faces\\akshay15.jpg\n",
      "sample_faces\\akshay16.jpg\n",
      "sample_faces\\akshay17.jpg\n",
      "sample_faces\\akshay18.jpg\n",
      "sample_faces\\akshay19.jpg\n",
      "sample_faces\\akshay2.jpeg\n",
      "no face found !!!\n",
      "sample_faces\\akshay20.jpg\n",
      "sample_faces\\akshay3.jpg\n",
      "sample_faces\\akshay4.jpg\n",
      "sample_faces\\akshay5.jpg\n",
      "sample_faces\\akshay6.jpg\n",
      "sample_faces\\akshay7.jpg\n",
      "sample_faces\\akshay8.jpg\n",
      "sample_faces\\akshay9.jpg\n",
      "sample_faces\\amir1.jpg\n",
      "sample_faces\\amir10.jpg\n",
      "sample_faces\\amir11.jpg\n",
      "sample_faces\\amir12.jpg\n",
      "sample_faces\\amir13.jpg\n",
      "sample_faces\\amir14.jpeg\n",
      "sample_faces\\amir15.jpg\n",
      "sample_faces\\amir2.jpg\n",
      "sample_faces\\amir3.jpg\n",
      "sample_faces\\amir4.jpeg\n",
      "no face found !!!\n",
      "sample_faces\\amir5.jpg\n",
      "sample_faces\\amir7.jpeg\n",
      "sample_faces\\amir8.jpg\n",
      "sample_faces\\amir9.jpg\n",
      "sample_faces\\anupam2.jpg\n",
      "sample_faces\\anupam3.jpg\n",
      "sample_faces\\anupam4.jpg\n",
      "sample_faces\\anupam5.jpg\n",
      "sample_faces\\anupam6.jpg\n",
      "sample_faces\\anupam7.jpeg\n",
      "sample_faces\\anupam8.jpg\n",
      "sample_faces\\anurag1.jpg\n",
      "sample_faces\\anurag2.jpg\n",
      "sample_faces\\anurag3.jpg\n",
      "sample_faces\\anurag4.jpg\n",
      "sample_faces\\anurag5.jpg\n",
      "sample_faces\\arshad1.jpg\n",
      "sample_faces\\arshad10.jpg\n",
      "sample_faces\\arshad11.jpg\n",
      "sample_faces\\arshad12.jpeg\n",
      "sample_faces\\arshad13.jpg\n",
      "sample_faces\\arshad14.jpg\n",
      "sample_faces\\arshad15.jpg\n",
      "sample_faces\\arshad16.jpg\n",
      "sample_faces\\arshad2.jpg\n",
      "sample_faces\\arshad3.jpeg\n",
      "sample_faces\\arshad4.jpg\n",
      "sample_faces\\arshad5.jpg\n",
      "sample_faces\\arshad6.jpg\n",
      "sample_faces\\arshad7.jpeg\n",
      "sample_faces\\arshad8.jpeg\n",
      "sample_faces\\arshad9.jpg\n",
      "sample_faces\\ayushman1.jpg\n",
      "sample_faces\\ayushman2.jpeg\n",
      "sample_faces\\ayushman3.JPG\n",
      "sample_faces\\ayushman4.jpg\n",
      "sample_faces\\ayushman5.jpg\n",
      "sample_faces\\ja1.jpg\n",
      "sample_faces\\ja10.jpg\n",
      "sample_faces\\ja11.jpg\n",
      "sample_faces\\ja12.jpg\n",
      "sample_faces\\ja13.jpeg\n",
      "sample_faces\\ja14.jpg\n",
      "sample_faces\\ja15.jpg\n",
      "sample_faces\\ja2.jpg\n",
      "sample_faces\\ja3.jpg\n",
      "sample_faces\\ja4.jpg\n",
      "sample_faces\\ja5.jpg\n",
      "sample_faces\\ja6.jpg\n",
      "sample_faces\\ja7.jpg\n",
      "sample_faces\\ja8.jpg\n",
      "sample_faces\\ja9.jpg\n",
      "sample_faces\\kalki1.jpg\n",
      "sample_faces\\kalki10.jpg\n",
      "sample_faces\\kalki11.jpg\n",
      "sample_faces\\kalki12.jpg\n",
      "sample_faces\\kalki13.jpeg\n",
      "sample_faces\\kalki14.jpg\n",
      "sample_faces\\kalki15.jpg\n",
      "sample_faces\\kalki2.jpg\n",
      "sample_faces\\kalki3.jpeg\n",
      "sample_faces\\kalki4.jpg\n",
      "sample_faces\\kalki5.jpg\n",
      "sample_faces\\kalki6.jpg\n",
      "sample_faces\\kalki7.jpg\n",
      "sample_faces\\kalki8.jpg\n",
      "sample_faces\\kalki9.jpg\n",
      "sample_faces\\kirron1.jpg\n",
      "sample_faces\\kirron10.jpg\n",
      "sample_faces\\kirron2.jpg\n",
      "sample_faces\\kirron3.jpg\n",
      "sample_faces\\kirron4.jpg\n",
      "sample_faces\\kirron5.jpg\n",
      "sample_faces\\kirron6.jpg\n",
      "sample_faces\\kirron7.jpg\n",
      "sample_faces\\kirron8.jpg\n",
      "sample_faces\\kirron9.jpeg\n",
      "sample_faces\\manoj1.jpg\n",
      "sample_faces\\manoj2.jpeg\n",
      "sample_faces\\manoj3.jpg\n",
      "sample_faces\\manoj4.jpg\n",
      "sample_faces\\manoj5.JPG\n",
      "sample_faces\\nawaz1.jpg\n",
      "sample_faces\\nawaz2.jpg\n",
      "sample_faces\\nawaz3.jpg\n",
      "sample_faces\\nawaz4.jpg\n",
      "sample_faces\\pankaj1.jpg\n",
      "sample_faces\\pankaj2.jpg\n",
      "sample_faces\\pankaj3.jpg\n",
      "sample_faces\\pankaj5.jpg\n",
      "sample_faces\\pankaj6.jpg\n",
      "sample_faces\\radhika1.jpg\n",
      "sample_faces\\radhika10.jpg\n",
      "sample_faces\\radhika11.jpg\n",
      "sample_faces\\radhika12.jpg\n",
      "sample_faces\\radhika13.jpg\n",
      "sample_faces\\radhika14.jpg\n",
      "sample_faces\\radhika15.jpg\n",
      "sample_faces\\radhika2.jpeg\n",
      "sample_faces\\radhika3.jpg\n",
      "sample_faces\\radhika4.jpg\n",
      "sample_faces\\radhika5.jpg\n",
      "sample_faces\\radhika6.jpg\n",
      "sample_faces\\radhika7.jpg\n",
      "sample_faces\\radhika8.jpg\n",
      "sample_faces\\radhika9.jpg\n",
      "sample_faces\\rajkumar1.jpg\n",
      "sample_faces\\rajkumar2.jpg\n",
      "sample_faces\\rajkumar3.jpg\n",
      "sample_faces\\rajkumar4.jpg\n",
      "sample_faces\\rajkumar5.jpg\n",
      "sample_faces\\ratna1.jpeg\n",
      "sample_faces\\ratna2.jpg\n",
      "sample_faces\\ratna3.jpg\n",
      "sample_faces\\ratna4.JPG\n",
      "sample_faces\\ratna5.jpg\n",
      "sample_faces\\ratna6.jpg\n",
      "sample_faces\\richa2.jpg\n",
      "sample_faces\\richa3.JPG\n",
      "sample_faces\\richa4.jpg\n",
      "sample_faces\\richa5.jpg\n",
      "sample_faces\\rockram1.jpg\n",
      "sample_faces\\rockram2.jpg\n",
      "sample_faces\\rockram3.jpg\n",
      "sample_faces\\rockram4.jpg\n",
      "sample_faces\\rockram5.jpg\n",
      "sample_faces\\rockram6.jpg\n",
      "sample_faces\\rockram7.jpg\n",
      "sample_faces\\rockram8.jpg\n",
      "sample_faces\\salman1.jpg\n",
      "sample_faces\\salman10.jpg\n",
      "sample_faces\\salman11.jpg\n",
      "sample_faces\\salman12.jpg\n",
      "sample_faces\\salman13.jpg\n",
      "sample_faces\\salman14.jpg\n",
      "sample_faces\\salman15.jpg\n",
      "sample_faces\\salman16.jpg\n",
      "sample_faces\\salman17.jpg\n",
      "sample_faces\\salman18.jpg\n",
      "sample_faces\\salman19.jpg\n",
      "sample_faces\\salman2.jpg\n",
      "sample_faces\\salman20.jpg\n",
      "sample_faces\\salman3.jpg\n",
      "sample_faces\\salman4.jpg\n",
      "sample_faces\\salman5.jpeg\n",
      "sample_faces\\salman6.jpg\n",
      "sample_faces\\salman7.jpg\n",
      "sample_faces\\salman8.jpg\n",
      "sample_faces\\salman9.jpg\n",
      "sample_faces\\srk1.jpg\n",
      "sample_faces\\srk10.jpeg\n",
      "sample_faces\\srk11.jpg\n",
      "sample_faces\\srk12.jpg\n",
      "sample_faces\\srk13.jpg\n",
      "sample_faces\\srk14.jpg\n",
      "sample_faces\\srk15.jpg\n",
      "sample_faces\\srk16.jpg\n",
      "sample_faces\\srk17.jpg\n",
      "sample_faces\\srk18.jpg\n",
      "sample_faces\\srk19.jpg\n",
      "sample_faces\\srk2.jpg\n",
      "sample_faces\\srk3.jpeg\n",
      "no face found !!!\n",
      "sample_faces\\srk4.jpg\n",
      "sample_faces\\srk5.jpg\n",
      "sample_faces\\srk6.jpg\n",
      "sample_faces\\srk7.jpg\n",
      "sample_faces\\srk8.jpg\n",
      "sample_faces\\srk9.jpg\n",
      "sample_faces\\supriya1.jpg\n",
      "sample_faces\\supriya2.jpg\n",
      "sample_faces\\supriya3.jpg\n",
      "sample_faces\\supriya4.jpg\n",
      "sample_faces\\supriya5.jpg\n",
      "sample_faces\\supriya6.jpg\n",
      "sample_faces\\tiger1.jpg\n",
      "sample_faces\\tiger2.jpg\n",
      "sample_faces\\tiger4.jpg\n",
      "sample_faces\\tiger5.jpg\n",
      "sample_faces\\tiger6.jpg\n",
      "sample_faces\\varun1.jpg\n",
      "sample_faces\\varun2.jpg\n",
      "sample_faces\\varun3.jpg\n",
      "sample_faces\\varun4.jpeg\n",
      "sample_faces\\varun6.jpeg\n",
      "sample_faces\\vijay1.jpg\n",
      "sample_faces\\vijay10.jpg\n",
      "sample_faces\\vijay2.jpg\n",
      "sample_faces\\vijay3.jpg\n",
      "sample_faces\\vijay4.jpg\n",
      "sample_faces\\vijay5.jpg\n",
      "sample_faces\\vijay6.jpg\n",
      "sample_faces\\vijay7.jpg\n",
      "sample_faces\\vijay8.jpg\n",
      "sample_faces\\vijay9.jpg\n",
      "sample_faces\\vikky1.jpg\n",
      "sample_faces\\vikky10.jpg\n",
      "sample_faces\\vikky11.jpg\n",
      "sample_faces\\vikky12.jpg\n",
      "sample_faces\\vikky13.jpg\n",
      "sample_faces\\vikky14.jpg\n",
      "sample_faces\\vikky15.jpg\n",
      "sample_faces\\vikky16.jpg\n",
      "sample_faces\\vikky17.jpg\n",
      "sample_faces\\vikky18.jpg\n",
      "sample_faces\\vikky19.jpg\n",
      "sample_faces\\vikky2.jpg\n",
      "sample_faces\\vikky20.jpg\n",
      "sample_faces\\vikky3.jpg\n",
      "sample_faces\\vikky4.jpg\n",
      "sample_faces\\vikky5.jpg\n",
      "sample_faces\\vikky6.jpg\n",
      "sample_faces\\vikky7.jpg\n",
      "sample_faces\\vikky8.jpg\n",
      "sample_faces\\vikky9.jpg\n"
     ]
    }
   ],
   "source": [
    "for images in data_df.path:\n",
    "    face_enc = get_face_encoding(images)\n",
    "    tot_faces.append(face_enc)"
   ]
  },
  {
   "cell_type": "code",
   "execution_count": 168,
   "metadata": {},
   "outputs": [],
   "source": [
    "X = np.array(tot_faces)"
   ]
  },
  {
   "cell_type": "code",
   "execution_count": 169,
   "metadata": {},
   "outputs": [],
   "source": [
    "y_height = data_df.height.values\n",
    "y_weight = data_df.weight.values\n",
    "y_BMI = data_df.BMI.values"
   ]
  },
  {
   "cell_type": "code",
   "execution_count": 170,
   "metadata": {},
   "outputs": [],
   "source": [
    "from sklearn.model_selection import train_test_split"
   ]
  },
  {
   "cell_type": "code",
   "execution_count": 171,
   "metadata": {},
   "outputs": [],
   "source": [
    "X_train, X_test, y_height_train, y_height_test, y_weight_train, y_weight_test ,y_BMI_train, y_BMI_test = train_test_split(X, y_height,y_weight,y_BMI, random_state=1)"
   ]
  },
  {
   "attachments": {},
   "cell_type": "markdown",
   "metadata": {},
   "source": [
    "Converting the data Type into float"
   ]
  },
  {
   "cell_type": "code",
   "execution_count": 172,
   "metadata": {},
   "outputs": [],
   "source": [
    "y_height_train=y_height_train.astype(float)\n",
    "y_height_test=y_height_test.astype(float)\n",
    "y_weight_train=y_weight_train.astype(float)\n",
    "y_weight_test=y_weight_test.astype(float)\n",
    "y_BMI_train=y_BMI_train.astype(float)\n",
    "y_BMI_test=y_BMI_test.astype(float)"
   ]
  },
  {
   "attachments": {},
   "cell_type": "markdown",
   "metadata": {},
   "source": [
    "getting the shape of the Training data"
   ]
  },
  {
   "cell_type": "code",
   "execution_count": 173,
   "metadata": {},
   "outputs": [
    {
     "name": "stdout",
     "output_type": "stream",
     "text": [
      "(190, 128)\n"
     ]
    }
   ],
   "source": [
    "print(X_train.shape)"
   ]
  },
  {
   "cell_type": "markdown",
   "metadata": {},
   "source": [
    "Train the model using CNN"
   ]
  },
  {
   "attachments": {},
   "cell_type": "markdown",
   "metadata": {},
   "source": [
    "Developing height model"
   ]
  },
  {
   "cell_type": "code",
   "execution_count": 193,
   "metadata": {},
   "outputs": [
    {
     "name": "stdout",
     "output_type": "stream",
     "text": [
      "Epoch 1/10\n",
      "6/6 [==============================] - 6s 43ms/step - loss: 1.2672 - mae: 0.5980\n",
      "Epoch 2/10\n",
      "6/6 [==============================] - 0s 30ms/step - loss: 1.1606 - mae: 0.6070\n",
      "Epoch 3/10\n",
      "6/6 [==============================] - 0s 31ms/step - loss: 1.0915 - mae: 0.5826\n",
      "Epoch 4/10\n",
      "6/6 [==============================] - 0s 35ms/step - loss: 1.0994 - mae: 0.5439\n",
      "Epoch 5/10\n",
      "6/6 [==============================] - 0s 39ms/step - loss: 1.2135 - mae: 0.4859\n",
      "Epoch 6/10\n",
      "6/6 [==============================] - 0s 32ms/step - loss: 1.1992 - mae: 0.5171\n",
      "Epoch 7/10\n",
      "6/6 [==============================] - 0s 41ms/step - loss: 1.0972 - mae: 0.5464\n",
      "Epoch 8/10\n",
      "6/6 [==============================] - 0s 42ms/step - loss: 1.1366 - mae: 0.5663\n",
      "Epoch 9/10\n",
      "6/6 [==============================] - 0s 34ms/step - loss: 1.1445 - mae: 0.5613\n",
      "Epoch 10/10\n",
      "6/6 [==============================] - 0s 31ms/step - loss: 1.0927 - mae: 0.5470\n",
      "2/2 [==============================] - 2s 18ms/step - loss: 0.7319 - mae: 0.3531\n",
      "loss of Height: 0.731899619102478\n",
      "mae of Height: 0.3531155586242676\n"
     ]
    }
   ],
   "source": [
    "# Define the model architecture\n",
    "model_height = tf.keras.Sequential([\n",
    "    tf.keras.layers.Reshape((X_train.shape[1], 1), input_shape=(X_train.shape[1],)),\n",
    "    tf.keras.layers.Conv1D(filters=16, kernel_size=3, activation='relu'),\n",
    "    tf.keras.layers.MaxPooling1D(pool_size=2),\n",
    "    tf.keras.layers.Conv1D(filters=32, kernel_size=3, activation='relu'),\n",
    "    tf.keras.layers.MaxPooling1D(pool_size=2),\n",
    "    tf.keras.layers.Flatten(),\n",
    "    tf.keras.layers.Dense(units=128, activation='relu'),\n",
    "    tf.keras.layers.Dense(units=1, activation='relu'),\n",
    "    tf.keras.layers.Dropout(rate=0.5)\n",
    "])\n",
    "\n",
    "model_height.compile(loss='mse', optimizer='adam', metrics=['mae'])\n",
    "\n",
    "# Fit the model to the training data\n",
    "model_height.fit(X_train, np.log(y_height_train), epochs=10, batch_size=32)\n",
    "\n",
    "# Evaluate the model on the test data\n",
    "test_loss_height_cnn,test_height_accuray = model_height.evaluate(X_test, np.log(y_height_test))\n",
    "\n",
    "#printing the metrics\n",
    "print('loss of Height:', test_loss_height_cnn)\n",
    "print('mae of Height:', test_height_accuray)\n",
    "\n",
    "#saving the model\n",
    "model_height.save('height_model.h5')"
   ]
  },
  {
   "attachments": {},
   "cell_type": "markdown",
   "metadata": {},
   "source": [
    "Developing weight model"
   ]
  },
  {
   "cell_type": "code",
   "execution_count": 194,
   "metadata": {},
   "outputs": [
    {
     "name": "stdout",
     "output_type": "stream",
     "text": [
      "Epoch 1/10\n",
      "6/6 [==============================] - 6s 84ms/step - loss: 13.3965 - mae: 3.6208\n",
      "Epoch 2/10\n",
      "6/6 [==============================] - 0s 84ms/step - loss: 2.5016 - mae: 1.4212\n",
      "Epoch 3/10\n",
      "6/6 [==============================] - 0s 80ms/step - loss: 0.8856 - mae: 0.7662\n",
      "Epoch 4/10\n",
      "6/6 [==============================] - 0s 89ms/step - loss: 1.1568 - mae: 0.9942\n",
      "Epoch 5/10\n",
      "6/6 [==============================] - 1s 89ms/step - loss: 0.3775 - mae: 0.4484\n",
      "Epoch 6/10\n",
      "6/6 [==============================] - 0s 76ms/step - loss: 0.3817 - mae: 0.4455\n",
      "Epoch 7/10\n",
      "6/6 [==============================] - 0s 76ms/step - loss: 0.3211 - mae: 0.4038\n",
      "Epoch 8/10\n",
      "6/6 [==============================] - 1s 82ms/step - loss: 0.2207 - mae: 0.2813\n",
      "Epoch 9/10\n",
      "6/6 [==============================] - 1s 83ms/step - loss: 0.2138 - mae: 0.2625\n",
      "Epoch 10/10\n",
      "6/6 [==============================] - 0s 76ms/step - loss: 0.1986 - mae: 0.2560\n",
      "2/2 [==============================] - 1s 23ms/step - loss: 0.2288 - mae: 0.2111\n",
      "loss of weight: 0.22877739369869232\n",
      "mae of weight: 0.21105632185935974\n"
     ]
    }
   ],
   "source": [
    "# Define the model architecture\n",
    "model_weight = tf.keras.Sequential([\n",
    "    tf.keras.layers.Reshape((X_train.shape[1], 1), input_shape=(X_train.shape[1],)),\n",
    "    tf.keras.layers.Conv1D(filters=32, kernel_size=3, activation='relu'),\n",
    "    tf.keras.layers.MaxPooling1D(pool_size=2),\n",
    "    tf.keras.layers.Conv1D(filters=64, kernel_size=3, activation='relu'),\n",
    "    tf.keras.layers.MaxPooling1D(pool_size=2),\n",
    "    tf.keras.layers.Conv1D(filters=128, kernel_size=3, activation='relu'),\n",
    "    tf.keras.layers.MaxPooling1D(pool_size=2),\n",
    "    tf.keras.layers.Flatten(),\n",
    "    tf.keras.layers.Dense(units=128, activation='relu'),\n",
    "    tf.keras.layers.Dense(units=1, activation='relu')\n",
    "    ])\n",
    "model_weight.compile(loss='mse', optimizer='adam',metrics=['mae'])\n",
    "\n",
    "# Fit the model to the training data\n",
    "model_weight.fit(X_train, np.log(y_weight_train), epochs=10, batch_size=32)\n",
    "\n",
    "# Evaluate the model on the test data\n",
    "test_loss_weight_cnn,test_weight_accuray = model_weight.evaluate(X_test, np.log(y_weight_test))\n",
    "\n",
    "#printing the metrics\n",
    "print('loss of weight:', test_loss_weight_cnn)\n",
    "print('mae of weight:', test_weight_accuray)\n",
    "\n",
    "#saving the model\n",
    "model_weight.save('weight_model.h5')\n"
   ]
  },
  {
   "attachments": {},
   "cell_type": "markdown",
   "metadata": {},
   "source": [
    "Developing BMI model"
   ]
  },
  {
   "cell_type": "code",
   "execution_count": 195,
   "metadata": {},
   "outputs": [
    {
     "name": "stdout",
     "output_type": "stream",
     "text": [
      "Epoch 1/10\n",
      "6/6 [==============================] - 4s 37ms/step - loss: 7.4268 - mae: 2.6965\n",
      "Epoch 2/10\n",
      "6/6 [==============================] - 0s 40ms/step - loss: 1.2128 - mae: 0.9515\n",
      "Epoch 3/10\n",
      "6/6 [==============================] - 0s 38ms/step - loss: 0.8786 - mae: 0.7865\n",
      "Epoch 4/10\n",
      "6/6 [==============================] - 0s 45ms/step - loss: 0.4658 - mae: 0.5877\n",
      "Epoch 5/10\n",
      "6/6 [==============================] - 0s 62ms/step - loss: 0.3051 - mae: 0.4161\n",
      "Epoch 6/10\n",
      "6/6 [==============================] - 0s 82ms/step - loss: 0.2411 - mae: 0.3800\n",
      "Epoch 7/10\n",
      "6/6 [==============================] - 0s 65ms/step - loss: 0.1518 - mae: 0.2191\n",
      "Epoch 8/10\n",
      "6/6 [==============================] - 0s 55ms/step - loss: 0.1696 - mae: 0.2759\n",
      "Epoch 9/10\n",
      "6/6 [==============================] - 0s 39ms/step - loss: 0.1230 - mae: 0.1700\n",
      "Epoch 10/10\n",
      "6/6 [==============================] - 0s 61ms/step - loss: 0.1224 - mae: 0.1730\n",
      "2/2 [==============================] - 1s 15ms/step - loss: 0.1491 - mae: 0.1463\n",
      "loss of BMI: 0.14909550547599792\n",
      "mae of BMI: 0.14634348452091217\n"
     ]
    }
   ],
   "source": [
    "# Define the model architecture\n",
    "model_BMI = tf.keras.Sequential([\n",
    "    tf.keras.layers.Reshape((X_train.shape[1], 1), input_shape=(X_train.shape[1],)),\n",
    "    tf.keras.layers.Conv1D(filters=32, kernel_size=3, activation='relu'),\n",
    "    tf.keras.layers.MaxPooling1D(pool_size=2),\n",
    "    tf.keras.layers.Conv1D(filters=64, kernel_size=3, activation='relu'),\n",
    "    tf.keras.layers.MaxPooling1D(pool_size=2),\n",
    "    tf.keras.layers.Flatten(),\n",
    "    tf.keras.layers.Dense(units=128, activation='relu'),\n",
    "    tf.keras.layers.Dense(units=1, activation='relu')\n",
    "])\n",
    "model_BMI.compile(loss='mse', optimizer='adam',metrics=['mae'])\n",
    "\n",
    "\n",
    "# Fit the model to the training data\n",
    "model_BMI.fit(X_train, np.log(y_BMI_train), epochs=10, batch_size=32)\n",
    "\n",
    "\n",
    "# Evaluate the model on the test data\n",
    "test_loss_BMI_cnn,test_BMI_accuray = model_BMI.evaluate(X_test, np.log(y_BMI_test))\n",
    "\n",
    "#printing the metrics\n",
    "print('loss of BMI:', test_loss_BMI_cnn)\n",
    "print('mae of BMI:', test_BMI_accuray)\n",
    "\n",
    "#saving the model\n",
    "model_BMI.save('BMI_model.h5')"
   ]
  },
  {
   "attachments": {},
   "cell_type": "markdown",
   "metadata": {},
   "source": [
    "saving the models"
   ]
  },
  {
   "cell_type": "code",
   "execution_count": 196,
   "metadata": {},
   "outputs": [],
   "source": [
    "#;oad the models\n",
    "\n",
    "height_model = tf.keras.models.load_model('height_model.h5')\n",
    "weight_model = tf.keras.models.load_model('weight_model.h5')\n",
    "BMI_model = tf.keras.models.load_model('BMI_model.h5')\n",
    "\n",
    "def predict_heit_width_BMI(input_img,height_model,weight_model,BMI_model):\n",
    "    test_array = np.expand_dims(np.array(get_face_encoding(input_img)),axis=0)\n",
    "    height = np.ndarray.item(np.exp(height_model.predict(test_array)))\n",
    "    weight = np.ndarray.item(np.exp(weight_model.predict(test_array)))\n",
    "    bmi = np.ndarray.item(np.exp(BMI_model.predict(test_array)))\n",
    "    return {'height':height,\"weight\":weight,\"bmi\":bmi}"
   ]
  },
  {
   "attachments": {},
   "cell_type": "markdown",
   "metadata": {},
   "source": [
    "for code level deployment"
   ]
  },
  {
   "cell_type": "code",
   "execution_count": 197,
   "metadata": {},
   "outputs": [],
   "source": [
    "from IPython.display import Image"
   ]
  },
  {
   "cell_type": "code",
   "execution_count": 198,
   "metadata": {},
   "outputs": [
    {
     "data": {
      "image/jpeg": "[encoded data removed]",
      "text/plain": [
       "<IPython.core.display.Image object>"
      ]
     },
     "execution_count": 198,
     "metadata": {},
     "output_type": "execute_result"
    }
   ],
   "source": [
    "input_img = r\"C:\\Users\\ROCKRAM\\Downloads\\Face-to-height-weight-BMI-estimation--master\\Face-to-height-weight-BMI-estimation--master\\bmi project\\test_faces\\amit2.jpg\"\n",
    "Image(input_img)"
   ]
  },
  {
   "cell_type": "code",
   "execution_count": 199,
   "metadata": {},
   "outputs": [
    {
     "name": "stdout",
     "output_type": "stream",
     "text": [
      "C:\\Users\\ROCKRAM\\Downloads\\Face-to-height-weight-BMI-estimation--master\\Face-to-height-weight-BMI-estimation--master\\bmi project\\test_faces\\amit2.jpg\n"
     ]
    }
   ],
   "source": [
    "print((input_img))"
   ]
  },
  {
   "cell_type": "code",
   "execution_count": 200,
   "metadata": {},
   "outputs": [
    {
     "name": "stdout",
     "output_type": "stream",
     "text": [
      "C:\\Users\\ROCKRAM\\Downloads\\Face-to-height-weight-BMI-estimation--master\\Face-to-height-weight-BMI-estimation--master\\bmi project\\test_faces\\amit2.jpg\n",
      "1/1 [==============================] - 0s 321ms/step\n",
      "1/1 [==============================] - 0s 433ms/step\n",
      "1/1 [==============================] - 1s 515ms/step\n"
     ]
    },
    {
     "data": {
      "text/plain": [
       "{'height': 1.319846749305725,\n",
       " 'weight': 68.66764831542969,\n",
       " 'bmi': 23.72263526916504}"
      ]
     },
     "execution_count": 200,
     "metadata": {},
     "output_type": "execute_result"
    }
   ],
   "source": [
    "predict_heit_width_BMI(input_img,height_model,weight_model,BMI_model)"
   ]
  },
  {
   "attachments": {},
   "cell_type": "markdown",
   "metadata": {},
   "source": [
    "creating GUI using tkinter"
   ]
  },
  {
   "cell_type": "code",
   "execution_count": 202,
   "metadata": {},
   "outputs": [
    {
     "name": "stderr",
     "output_type": "stream",
     "text": [
      "C:\\Users\\ROCKRAM\\AppData\\Local\\Temp\\ipykernel_11808\\290438976.py:44: DeprecationWarning: ANTIALIAS is deprecated and will be removed in Pillow 10 (2023-07-01). Use LANCZOS or Resampling.LANCZOS instead.\n",
      "  image = image.resize((300, 300), Image.ANTIALIAS)\n"
     ]
    },
    {
     "name": "stdout",
     "output_type": "stream",
     "text": [
      "captured_image.jpg\n",
      "1/1 [==============================] - 0s 360ms/step\n",
      "1/1 [==============================] - 0s 455ms/step\n",
      "1/1 [==============================] - 0s 443ms/step\n",
      "captured_image.jpg\n",
      "no face found !!!\n",
      "1/1 [==============================] - 0s 289ms/step\n",
      "1/1 [==============================] - 0s 81ms/step\n",
      "1/1 [==============================] - 0s 150ms/step\n"
     ]
    }
   ],
   "source": [
    "import tkinter as tk\n",
    "from tkinter import filedialog\n",
    "from PIL import ImageTk, Image\n",
    "import numpy as np\n",
    "import cv2\n",
    "\n",
    "# Define the function to predict height, weight, and BMI\n",
    "def predict_heit_width_BMI(input_img,height_model,weight_model,BMI_model):\n",
    "    test_array = np.expand_dims(np.array(get_face_encoding(input_img)),axis=0)\n",
    "    height = np.ndarray.item(np.exp(height_model.predict(test_array)))\n",
    "    weight = np.ndarray.item(np.exp(weight_model.predict(test_array)))\n",
    "    bmi = np.ndarray.item(np.exp(BMI_model.predict(test_array)))\n",
    "    return {'height':height,\"weight\":weight,\"bmi\":bmi}\n",
    "\n",
    "# Define a function to get the file path of the selected image\n",
    "def browse_file():\n",
    "    global photo # Add this line to access the global variable\n",
    "    file_path = filedialog.askopenfilename()\n",
    "    if file_path:\n",
    "        # Open the selected image and display it in the UI\n",
    "        image = Image.open(file_path)\n",
    "        image = image.resize((300, 300), Image.ANTIALIAS)\n",
    "        photo = ImageTk.PhotoImage(image)\n",
    "        canvas.itemconfigure(image_id, image=photo)\n",
    "        canvas.image = photo\n",
    "\n",
    "        # Call the predict_heit_width_BMI() function and display the results in the UI\n",
    "        result = predict_heit_width_BMI(file_path, height_model, weight_model, BMI_model)\n",
    "        result_label.config(text=f\"Height: {result['height']:.2f}\\nWeight: {result['weight']:.2f}\\nBMI: {result['bmi']:.2f}\")\n",
    "\n",
    "def capture_image():\n",
    "    global photo # Add this line to access the global variable\n",
    "    cap = cv2.VideoCapture(0)\n",
    "    cap.set(3,640) # set Width\n",
    "    cap.set(4,480) # set Height\n",
    "    while(True):\n",
    "        ret, frame = cap.read()\n",
    "        if ret:\n",
    "            cv2.imshow('frame', frame)\n",
    "            if cv2.waitKey(1) & 0xFF == ord('q'):\n",
    "                # Save the captured image and display it in the UI\n",
    "                cv2.imwrite('captured_image.jpg', frame)\n",
    "                image = Image.open('captured_image.jpg')\n",
    "                image = image.resize((300, 300), Image.ANTIALIAS)\n",
    "                photo = ImageTk.PhotoImage(image)\n",
    "                canvas.itemconfigure(image_id, image=photo)\n",
    "                canvas.image = photo\n",
    "\n",
    "                # Call the predict_heit_width_BMI() function and display the results in the UI\n",
    "                result = predict_heit_width_BMI('captured_image.jpg', height_model, weight_model, BMI_model)\n",
    "                result_label.config(text=f\"Height: {result['height']:.2f}\\nWeight: {result['weight']:.2f}\\nBMI: {result['bmi']:.2f}\")\n",
    "                break\n",
    "    cap.release()\n",
    "    cv2.destroyAllWindows()\n",
    "\n",
    "# Define a function to clear the selected image and results\n",
    "def clear_display():\n",
    "    global photo # Add this line to access the global variable\n",
    "    canvas.delete(image_id)\n",
    "    result_label.config(text=\"\")\n",
    "    photo = None # Set the global variable to None to allow the PhotoImage object to be garbage collected\n",
    "\n",
    "# Create the main window\n",
    "root = tk.Tk()\n",
    "root.title(\"Predict Height, Weight, and BMI\")\n",
    "\n",
    "# Create the canvas to display the image\n",
    "canvas = tk.Canvas(root, width=300, height=300)\n",
    "canvas.pack()\n",
    "\n",
    "# Create a label to display the results\n",
    "result_label = tk.Label(root, font=(\"Arial\", 14))\n",
    "result_label.pack(pady=10)\n",
    "\n",
    "# Create a label to display the results\n",
    "result_label = tk.Label(root, font=(\"Arial\", 14))\n",
    "result_label.pack(pady=10)\n",
    "\n",
    "# Create a frame for the buttons\n",
    "button_frame = tk.Frame(root)\n",
    "button_frame.pack(pady=10)\n",
    "\n",
    "# Create a button to browse for an image\n",
    "browse_button = tk.Button(button_frame, text=\"Browse\", command=browse_file)\n",
    "browse_button.pack(side=tk.LEFT, padx=10)\n",
    "\n",
    "# Create a button to capture image from the camera\n",
    "capture_button = tk.Button(button_frame, text=\"Capture\", command=capture_image)\n",
    "capture_button.pack(side=tk.LEFT, padx=10)\n",
    "\n",
    "# Create a button to clear the displayed image and results\n",
    "clear_button = tk.Button(button_frame, text=\"Clear\", command=clear_display)\n",
    "clear_button.pack(side=tk.RIGHT, padx=10)\n",
    "\n",
    "# Initialize the image_id variable\n",
    "image_id = canvas.create_image((0, 0), anchor='nw')\n",
    "\n",
    "# Load the height, weight, and BMI models\n",
    "height_model = tf.keras.models.load_model('height_model.h5')\n",
    "weight_model = tf.keras.models.load_model('weight_model.h5')\n",
    "BMI_model = tf.keras.models.load_model('BMI_model.h5')\n",
    "\n",
    "# Start the main loop\n",
    "root.mainloop()\n",
    "\n"
   ]
  }
 ],
 "metadata": {
  "kernelspec": {
   "display_name": "Python 3",
   "language": "python",
   "name": "python3"
  },
  "language_info": {
   "codemirror_mode": {
    "name": "ipython",
    "version": 3
   },
   "file_extension": ".py",
   "mimetype": "text/x-python",
   "name": "python",
   "nbconvert_exporter": "python",
   "pygments_lexer": "ipython3",
   "version": "3.9.0"
  },
  "orig_nbformat": 4,
  "vscode": {
   "interpreter": {
    "hash": "e3420ed2c65300ffc1d71199033e9176e0c26ff8ced7474b2f05f6e440a26153"
   }
  }
 },
 "nbformat": 4,
 "nbformat_minor": 2
}
